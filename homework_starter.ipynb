{
  "cells": [
    {
      "cell_type": "markdown",
      "metadata": {
        "id": "mrTFv5nPClXh"
      },
      "source": [
        "# **Homework**: Data talks club data engineering zoomcamp Data loading workshop\n",
        "\n",
        "Hello folks, let's practice what we learned - Loading data with the best practices of data engineering.\n",
        "\n",
        "Here are the exercises we will do\n",
        "\n",
        "\n"
      ]
    },
    {
      "cell_type": "markdown",
      "metadata": {
        "id": "wLF4iXf-NR7t"
      },
      "source": [
        "# 1. Use a generator\n",
        "\n",
        "Remember the concept of generator? Let's practice using them to futher our understanding of how they work.\n",
        "\n",
        "Let's define a generator and then run it as practice.\n",
        "\n",
        "**Answer the following questions:**\n",
        "\n",
        "- **Question 1: What is the sum of the outputs of the generator for limit = 5?**\n",
        "- **Question 2: What is the 13th number yielded**\n",
        "\n",
        "I suggest practicing these questions without GPT as the purpose is to further your learning."
      ]
    },
    {
      "cell_type": "code",
      "execution_count": 5,
      "metadata": {
        "colab": {
          "base_uri": "https://localhost:8080/"
        },
        "id": "wLng-bDJN4jf",
        "outputId": "547683cb-5f56-4815-a903-d0d9578eb1f9"
      },
      "outputs": [
        {
          "name": "stdout",
          "output_type": "stream",
          "text": [
            "1.0\n",
            "1.4142135623730951\n",
            "1.7320508075688772\n",
            "2.0\n",
            "2.23606797749979\n",
            "2.449489742783178\n",
            "2.6457513110645907\n",
            "2.8284271247461903\n",
            "3.0\n",
            "3.1622776601683795\n",
            "3.3166247903554\n",
            "3.4641016151377544\n",
            "3.605551275463989\n",
            "summ 32.854555867161245\n"
          ]
        }
      ],
      "source": [
        "def square_root_generator(limit):\n",
        "    n = 1\n",
        "    while n <= limit:\n",
        "        yield n ** 0.5\n",
        "        n += 1\n",
        "\n",
        "# Example usage:\n",
        "limit = 13\n",
        "generator = square_root_generator(limit)\n",
        "\n",
        "s = 0\n",
        "for sqrt_value in generator:\n",
        "    s += sqrt_value\n",
        "    print(sqrt_value)\n",
        "\n",
        "print(\"summ\", s)\n"
      ]
    },
    {
      "cell_type": "markdown",
      "metadata": {
        "id": "xbe3q55zN43j"
      },
      "source": []
    },
    {
      "cell_type": "markdown",
      "metadata": {
        "id": "vjWhILzGJMpK"
      },
      "source": [
        "# 2. Append a generator to a table with existing data\n",
        "\n",
        "\n",
        "Below you have 2 generators. You will be tasked to load them to duckdb and answer some questions from the data\n",
        "\n",
        "1. Load the first generator and calculate the sum of ages of all people. Make sure to only load it once.\n",
        "2. Append the second generator to the same table as the first.\n",
        "3. **After correctly appending the data, calculate the sum of all ages of people.**\n",
        "\n",
        "\n"
      ]
    },
    {
      "cell_type": "code",
      "execution_count": 4,
      "metadata": {},
      "outputs": [
        {
          "name": "stdout",
          "output_type": "stream",
          "text": [
            "Collecting dlt[duckdb]\n",
            "  Downloading dlt-0.4.2-py3-none-any.whl.metadata (9.5 kB)\n",
            "Collecting PyYAML>=5.4.1 (from dlt[duckdb])\n",
            "  Downloading PyYAML-6.0.1-cp311-cp311-win_amd64.whl.metadata (2.1 kB)\n",
            "Requirement already satisfied: SQLAlchemy>=1.4.0 in c:\\users\\mbary\\appdata\\local\\programs\\python\\python311\\lib\\site-packages (from dlt[duckdb]) (2.0.25)\n",
            "Requirement already satisfied: astunparse>=1.6.3 in c:\\users\\mbary\\appdata\\local\\programs\\python\\python311\\lib\\site-packages (from dlt[duckdb]) (1.6.3)\n",
            "Requirement already satisfied: click>=7.1 in c:\\users\\mbary\\appdata\\local\\programs\\python\\python311\\lib\\site-packages (from dlt[duckdb]) (8.1.7)\n",
            "Collecting duckdb<0.10.0,>=0.6.1 (from dlt[duckdb])\n",
            "  Downloading duckdb-0.9.2-cp311-cp311-win_amd64.whl.metadata (798 bytes)\n",
            "Collecting fsspec>=2022.4.0 (from dlt[duckdb])\n",
            "  Downloading fsspec-2024.2.0-py3-none-any.whl.metadata (6.8 kB)\n",
            "Collecting gitpython>=3.1.29 (from dlt[duckdb])\n",
            "  Downloading GitPython-3.1.41-py3-none-any.whl.metadata (14 kB)\n",
            "Collecting giturlparse>=0.10.0 (from dlt[duckdb])\n",
            "  Downloading giturlparse-0.12.0-py2.py3-none-any.whl.metadata (4.5 kB)\n",
            "Collecting hexbytes>=0.2.2 (from dlt[duckdb])\n",
            "  Downloading hexbytes-1.0.0-py3-none-any.whl.metadata (5.3 kB)\n",
            "Collecting humanize>=4.4.0 (from dlt[duckdb])\n",
            "  Downloading humanize-4.9.0-py3-none-any.whl.metadata (7.9 kB)\n",
            "Collecting jsonpath-ng>=1.5.3 (from dlt[duckdb])\n",
            "  Downloading jsonpath_ng-1.6.1-py3-none-any.whl.metadata (18 kB)\n",
            "Collecting makefun>=1.15.0 (from dlt[duckdb])\n",
            "  Downloading makefun-1.15.2-py2.py3-none-any.whl.metadata (3.0 kB)\n",
            "Collecting orjson>=3.6.7 (from dlt[duckdb])\n",
            "  Downloading orjson-3.9.13-cp311-none-win_amd64.whl.metadata (50 kB)\n",
            "     ---------------------------------------- 0.0/50.6 kB ? eta -:--:--\n",
            "     -------------------------------- ------- 41.0/50.6 kB 1.9 MB/s eta 0:00:01\n",
            "     -------------------------------------- 50.6/50.6 kB 858.7 kB/s eta 0:00:00\n",
            "Requirement already satisfied: packaging>=21.1 in c:\\users\\mbary\\appdata\\local\\programs\\python\\python311\\lib\\site-packages (from dlt[duckdb]) (23.2)\n",
            "Collecting pathvalidate>=2.5.2 (from dlt[duckdb])\n",
            "  Downloading pathvalidate-3.2.0-py3-none-any.whl.metadata (11 kB)\n",
            "Requirement already satisfied: pendulum>=2.1.2 in c:\\users\\mbary\\appdata\\local\\programs\\python\\python311\\lib\\site-packages (from dlt[duckdb]) (3.0.0)\n",
            "Requirement already satisfied: pytz>=2022.6 in c:\\users\\mbary\\appdata\\local\\programs\\python\\python311\\lib\\site-packages (from dlt[duckdb]) (2023.3.post1)\n",
            "Requirement already satisfied: requests>=2.26.0 in c:\\users\\mbary\\appdata\\local\\programs\\python\\python311\\lib\\site-packages (from dlt[duckdb]) (2.31.0)\n",
            "Collecting requirements-parser>=0.5.0 (from dlt[duckdb])\n",
            "  Downloading requirements_parser-0.5.0-py3-none-any.whl (18 kB)\n",
            "Collecting semver>=2.13.0 (from dlt[duckdb])\n",
            "  Downloading semver-3.0.2-py3-none-any.whl.metadata (5.0 kB)\n",
            "Requirement already satisfied: setuptools>=65.6.0 in c:\\users\\mbary\\appdata\\local\\programs\\python\\python311\\lib\\site-packages (from dlt[duckdb]) (69.0.2)\n",
            "Collecting simplejson>=3.17.5 (from dlt[duckdb])\n",
            "  Downloading simplejson-3.19.2-cp311-cp311-win_amd64.whl.metadata (3.2 kB)\n",
            "Collecting tenacity>=8.0.2 (from dlt[duckdb])\n",
            "  Downloading tenacity-8.2.3-py3-none-any.whl.metadata (1.0 kB)\n",
            "Collecting tomlkit>=0.11.3 (from dlt[duckdb])\n",
            "  Downloading tomlkit-0.12.3-py3-none-any.whl.metadata (2.7 kB)\n",
            "Requirement already satisfied: typing-extensions>=4.0.0 in c:\\users\\mbary\\appdata\\local\\programs\\python\\python311\\lib\\site-packages (from dlt[duckdb]) (4.8.0)\n",
            "Requirement already satisfied: tzdata>=2022.1 in c:\\users\\mbary\\appdata\\local\\programs\\python\\python311\\lib\\site-packages (from dlt[duckdb]) (2023.4)\n",
            "Collecting win-precise-time>=1.4.2 (from dlt[duckdb])\n",
            "  Downloading win_precise_time-1.4.2-cp311-cp311-win_amd64.whl.metadata (3.0 kB)\n",
            "Requirement already satisfied: wheel<1.0,>=0.23.0 in c:\\users\\mbary\\appdata\\local\\programs\\python\\python311\\lib\\site-packages (from astunparse>=1.6.3->dlt[duckdb]) (0.41.3)\n",
            "Requirement already satisfied: six<2.0,>=1.6.1 in c:\\users\\mbary\\appdata\\local\\programs\\python\\python311\\lib\\site-packages (from astunparse>=1.6.3->dlt[duckdb]) (1.16.0)\n",
            "Requirement already satisfied: colorama in c:\\users\\mbary\\appdata\\roaming\\python\\python311\\site-packages (from click>=7.1->dlt[duckdb]) (0.4.6)\n",
            "Collecting gitdb<5,>=4.0.1 (from gitpython>=3.1.29->dlt[duckdb])\n",
            "  Downloading gitdb-4.0.11-py3-none-any.whl.metadata (1.2 kB)\n",
            "Collecting ply (from jsonpath-ng>=1.5.3->dlt[duckdb])\n",
            "  Downloading ply-3.11-py2.py3-none-any.whl (49 kB)\n",
            "     ---------------------------------------- 0.0/49.6 kB ? eta -:--:--\n",
            "     ---------------------------------------- 49.6/49.6 kB 2.5 MB/s eta 0:00:00\n",
            "Requirement already satisfied: python-dateutil>=2.6 in c:\\users\\mbary\\appdata\\local\\programs\\python\\python311\\lib\\site-packages (from pendulum>=2.1.2->dlt[duckdb]) (2.8.2)\n",
            "Requirement already satisfied: time-machine>=2.6.0 in c:\\users\\mbary\\appdata\\local\\programs\\python\\python311\\lib\\site-packages (from pendulum>=2.1.2->dlt[duckdb]) (2.13.0)\n",
            "Requirement already satisfied: charset-normalizer<4,>=2 in c:\\users\\mbary\\appdata\\local\\programs\\python\\python311\\lib\\site-packages (from requests>=2.26.0->dlt[duckdb]) (3.3.2)\n",
            "Requirement already satisfied: idna<4,>=2.5 in c:\\users\\mbary\\appdata\\local\\programs\\python\\python311\\lib\\site-packages (from requests>=2.26.0->dlt[duckdb]) (3.4)\n",
            "Requirement already satisfied: urllib3<3,>=1.21.1 in c:\\users\\mbary\\appdata\\local\\programs\\python\\python311\\lib\\site-packages (from requests>=2.26.0->dlt[duckdb]) (2.1.0)\n",
            "Requirement already satisfied: certifi>=2017.4.17 in c:\\users\\mbary\\appdata\\local\\programs\\python\\python311\\lib\\site-packages (from requests>=2.26.0->dlt[duckdb]) (2023.11.17)\n",
            "Collecting types-setuptools>=57.0.0 (from requirements-parser>=0.5.0->dlt[duckdb])\n",
            "  Downloading types_setuptools-69.0.0.20240125-py3-none-any.whl.metadata (1.6 kB)\n",
            "Requirement already satisfied: greenlet!=0.4.17 in c:\\users\\mbary\\appdata\\local\\programs\\python\\python311\\lib\\site-packages (from SQLAlchemy>=1.4.0->dlt[duckdb]) (3.0.3)\n",
            "Collecting smmap<6,>=3.0.1 (from gitdb<5,>=4.0.1->gitpython>=3.1.29->dlt[duckdb])\n",
            "  Downloading smmap-5.0.1-py3-none-any.whl.metadata (4.3 kB)\n",
            "Downloading duckdb-0.9.2-cp311-cp311-win_amd64.whl (10.3 MB)\n",
            "   ---------------------------------------- 0.0/10.3 MB ? eta -:--:--\n",
            "   - -------------------------------------- 0.3/10.3 MB 8.6 MB/s eta 0:00:02\n",
            "   --- ------------------------------------ 0.9/10.3 MB 11.0 MB/s eta 0:00:01\n",
            "   ------ --------------------------------- 1.6/10.3 MB 12.4 MB/s eta 0:00:01\n",
            "   --------- ------------------------------ 2.4/10.3 MB 14.0 MB/s eta 0:00:01\n",
            "   ------------ --------------------------- 3.2/10.3 MB 14.8 MB/s eta 0:00:01\n",
            "   ---------------- ----------------------- 4.2/10.3 MB 15.7 MB/s eta 0:00:01\n",
            "   -------------------- ------------------- 5.2/10.3 MB 16.6 MB/s eta 0:00:01\n",
            "   ------------------------ --------------- 6.3/10.3 MB 17.5 MB/s eta 0:00:01\n",
            "   ----------------------------- ---------- 7.5/10.3 MB 18.5 MB/s eta 0:00:01\n",
            "   --------------------------------- ------ 8.6/10.3 MB 19.1 MB/s eta 0:00:01\n",
            "   -------------------------------------- - 10.0/10.3 MB 19.9 MB/s eta 0:00:01\n",
            "   ---------------------------------------  10.3/10.3 MB 19.8 MB/s eta 0:00:01\n",
            "   ---------------------------------------  10.3/10.3 MB 19.8 MB/s eta 0:00:01\n",
            "   ---------------------------------------  10.3/10.3 MB 19.8 MB/s eta 0:00:01\n",
            "   ---------------------------------------  10.3/10.3 MB 19.8 MB/s eta 0:00:01\n",
            "   ---------------------------------------  10.3/10.3 MB 19.8 MB/s eta 0:00:01\n",
            "   ---------------------------------------  10.3/10.3 MB 19.8 MB/s eta 0:00:01\n",
            "   ---------------------------------------  10.3/10.3 MB 19.8 MB/s eta 0:00:01\n",
            "   ---------------------------------------  10.3/10.3 MB 19.8 MB/s eta 0:00:01\n",
            "   ---------------------------------------  10.3/10.3 MB 19.8 MB/s eta 0:00:01\n",
            "   ---------------------------------------  10.3/10.3 MB 19.8 MB/s eta 0:00:01\n",
            "   ---------------------------------------  10.3/10.3 MB 19.8 MB/s eta 0:00:01\n",
            "   ---------------------------------------  10.3/10.3 MB 19.8 MB/s eta 0:00:01\n",
            "   ---------------------------------------  10.3/10.3 MB 19.8 MB/s eta 0:00:01\n",
            "   ---------------------------------------  10.3/10.3 MB 19.8 MB/s eta 0:00:01\n",
            "   ---------------------------------------  10.3/10.3 MB 19.8 MB/s eta 0:00:01\n",
            "   ---------------------------------------- 10.3/10.3 MB 8.3 MB/s eta 0:00:00\n",
            "Downloading fsspec-2024.2.0-py3-none-any.whl (170 kB)\n",
            "   ---------------------------------------- 0.0/170.9 kB ? eta -:--:--\n",
            "   ---------------------------------------- 170.9/170.9 kB 5.2 MB/s eta 0:00:00\n",
            "Downloading GitPython-3.1.41-py3-none-any.whl (196 kB)\n",
            "   ---------------------------------------- 0.0/196.4 kB ? eta -:--:--\n",
            "   --------------------------------------- 196.4/196.4 kB 11.6 MB/s eta 0:00:00\n",
            "Downloading giturlparse-0.12.0-py2.py3-none-any.whl (15 kB)\n",
            "Downloading hexbytes-1.0.0-py3-none-any.whl (5.9 kB)\n",
            "Downloading humanize-4.9.0-py3-none-any.whl (126 kB)\n",
            "   ---------------------------------------- 0.0/126.8 kB ? eta -:--:--\n",
            "   -------------------------------------- - 122.9/126.8 kB ? eta -:--:--\n",
            "   -------------------------------------- - 122.9/126.8 kB ? eta -:--:--\n",
            "   -------------------------------------- - 122.9/126.8 kB ? eta -:--:--\n",
            "   -------------------------------------- - 122.9/126.8 kB ? eta -:--:--\n",
            "   -------------------------------------- - 122.9/126.8 kB ? eta -:--:--\n",
            "   -------------------------------------- - 122.9/126.8 kB ? eta -:--:--\n",
            "   -------------------------------------- - 122.9/126.8 kB ? eta -:--:--\n",
            "   -------------------------------------- - 122.9/126.8 kB ? eta -:--:--\n",
            "   -------------------------------------- - 122.9/126.8 kB ? eta -:--:--\n",
            "   -------------------------------------- - 122.9/126.8 kB ? eta -:--:--\n",
            "   -------------------------------------- - 122.9/126.8 kB ? eta -:--:--\n",
            "   -------------------------------------- 126.8/126.8 kB 213.1 kB/s eta 0:00:00\n",
            "Downloading jsonpath_ng-1.6.1-py3-none-any.whl (29 kB)\n",
            "Downloading makefun-1.15.2-py2.py3-none-any.whl (22 kB)\n",
            "Downloading orjson-3.9.13-cp311-none-win_amd64.whl (134 kB)\n",
            "   ---------------------------------------- 0.0/134.2 kB ? eta -:--:--\n",
            "   ---------------------------------------- 134.2/134.2 kB 7.7 MB/s eta 0:00:00\n",
            "Downloading pathvalidate-3.2.0-py3-none-any.whl (23 kB)\n",
            "Downloading PyYAML-6.0.1-cp311-cp311-win_amd64.whl (144 kB)\n",
            "   ---------------------------------------- 0.0/144.7 kB ? eta -:--:--\n",
            "   ---------------------------------------- 144.7/144.7 kB 4.2 MB/s eta 0:00:00\n",
            "Downloading semver-3.0.2-py3-none-any.whl (17 kB)\n",
            "Downloading simplejson-3.19.2-cp311-cp311-win_amd64.whl (75 kB)\n",
            "   ---------------------------------------- 0.0/75.3 kB ? eta -:--:--\n",
            "   ---------------------------------------- 75.3/75.3 kB 4.1 MB/s eta 0:00:00\n",
            "Downloading tenacity-8.2.3-py3-none-any.whl (24 kB)\n",
            "Downloading tomlkit-0.12.3-py3-none-any.whl (37 kB)\n",
            "Downloading win_precise_time-1.4.2-cp311-cp311-win_amd64.whl (14 kB)\n",
            "Downloading dlt-0.4.2-py3-none-any.whl (518 kB)\n",
            "   ---------------------------------------- 0.0/518.1 kB ? eta -:--:--\n",
            "   ---------------------------------------  512.0/518.1 kB ? eta -:--:--\n",
            "   ---------------------------------------- 518.1/518.1 kB 6.5 MB/s eta 0:00:00\n",
            "Downloading gitdb-4.0.11-py3-none-any.whl (62 kB)\n",
            "   ---------------------------------------- 0.0/62.7 kB ? eta -:--:--\n",
            "   ---------------------------------------- 62.7/62.7 kB 1.7 MB/s eta 0:00:00\n",
            "Downloading types_setuptools-69.0.0.20240125-py3-none-any.whl (51 kB)\n",
            "   ---------------------------------------- 0.0/51.3 kB ? eta -:--:--\n",
            "   ---------------------------------------- 51.3/51.3 kB 2.6 MB/s eta 0:00:00\n",
            "Downloading smmap-5.0.1-py3-none-any.whl (24 kB)\n",
            "Installing collected packages: ply, makefun, win-precise-time, types-setuptools, tomlkit, tenacity, smmap, simplejson, semver, PyYAML, pathvalidate, orjson, jsonpath-ng, humanize, hexbytes, giturlparse, fsspec, duckdb, requirements-parser, gitdb, gitpython, dlt\n",
            "Successfully installed PyYAML-6.0.1 dlt-0.4.2 duckdb-0.9.2 fsspec-2024.2.0 gitdb-4.0.11 gitpython-3.1.41 giturlparse-0.12.0 hexbytes-1.0.0 humanize-4.9.0 jsonpath-ng-1.6.1 makefun-1.15.2 orjson-3.9.13 pathvalidate-3.2.0 ply-3.11 requirements-parser-0.5.0 semver-3.0.2 simplejson-3.19.2 smmap-5.0.1 tenacity-8.2.3 tomlkit-0.12.3 types-setuptools-69.0.0.20240125 win-precise-time-1.4.2\n"
          ]
        },
        {
          "name": "stderr",
          "output_type": "stream",
          "text": [
            "\n",
            "[notice] A new release of pip is available: 23.3.2 -> 24.0\n",
            "[notice] To update, run: C:\\Users\\mbary\\AppData\\Local\\Programs\\Python\\Python311\\python.exe -m pip install --upgrade pip\n"
          ]
        }
      ],
      "source": [
        "#Install the dependencies\n",
        "#pip install dlt[duckdb]"
      ]
    },
    {
      "cell_type": "code",
      "execution_count": 27,
      "metadata": {
        "colab": {
          "base_uri": "https://localhost:8080/"
        },
        "id": "2MoaQcdLBEk6",
        "outputId": "d2b93dc1-d83f-44ea-aeff-fdf51d75f7aa"
      },
      "outputs": [],
      "source": [
        "import dlt\n",
        "\n",
        "def people_1():\n",
        "    for i in range(1, 6):\n",
        "        yield {\"ID\": i, \"Name\": f\"Person_{i}\", \"Age\": 25 + i, \"City\": \"City_A\"}\n",
        "\n",
        "\n",
        "def people_2():\n",
        "    for i in range(3, 9):\n",
        "        yield {\"ID\": i, \"Name\": f\"Person_{i}\", \"Age\": 30 + i, \"City\": \"City_B\", \"Occupation\": f\"Job_{i}\"}\n",
        "\n",
        "\n",
        "generators_pipeline = dlt.pipeline(destination='duckdb', dataset_name='generators')\n",
        "\n",
        "ppl_1 = generators_pipeline.run(people_1(),\n",
        "\t\t\t\t\t\t\t\t\t\ttable_name=\"people_1\",\n",
        "                                        primary_key=\"ID\",\n",
        "\t\t\t\t\t\t\t\t\t\twrite_disposition=\"replace\")\n",
        "\n"
      ]
    },
    {
      "cell_type": "code",
      "execution_count": 22,
      "metadata": {},
      "outputs": [
        {
          "data": {
            "text/html": [
              "<div>\n",
              "<style scoped>\n",
              "    .dataframe tbody tr th:only-of-type {\n",
              "        vertical-align: middle;\n",
              "    }\n",
              "\n",
              "    .dataframe tbody tr th {\n",
              "        vertical-align: top;\n",
              "    }\n",
              "\n",
              "    .dataframe thead th {\n",
              "        text-align: right;\n",
              "    }\n",
              "</style>\n",
              "<table border=\"1\" class=\"dataframe\">\n",
              "  <thead>\n",
              "    <tr style=\"text-align: right;\">\n",
              "      <th></th>\n",
              "      <th>sum(age)</th>\n",
              "    </tr>\n",
              "  </thead>\n",
              "  <tbody>\n",
              "    <tr>\n",
              "      <th>0</th>\n",
              "      <td>140.0</td>\n",
              "    </tr>\n",
              "  </tbody>\n",
              "</table>\n",
              "</div>"
            ],
            "text/plain": [
              "   sum(age)\n",
              "0     140.0"
            ]
          },
          "metadata": {},
          "output_type": "display_data"
        }
      ],
      "source": [
        "import duckdb\n",
        "\n",
        "conn = duckdb.connect(f\"{generators_pipeline.pipeline_name}.duckdb\")\n",
        "\n",
        "# let's see the tables\n",
        "conn.sql(f\"SET search_path = '{generators_pipeline.dataset_name}'\")\n",
        "\n",
        "rides = conn.sql(\"SELECT SUM(age) FROM people_1\").df()\n",
        "display(rides)\n"
      ]
    },
    {
      "cell_type": "code",
      "execution_count": 29,
      "metadata": {},
      "outputs": [],
      "source": [
        "ppl_2 = generators_pipeline.run(people_2(),\n",
        "\t\t\t\t\t\t\t\t\t\ttable_name=\"people_1\",\n",
        "                                        primary_key=\"ID\",\n",
        "\t\t\t\t\t\t\t\t\t\twrite_disposition=\"merge\")"
      ]
    },
    {
      "cell_type": "code",
      "execution_count": 28,
      "metadata": {},
      "outputs": [
        {
          "data": {
            "text/html": [
              "<div>\n",
              "<style scoped>\n",
              "    .dataframe tbody tr th:only-of-type {\n",
              "        vertical-align: middle;\n",
              "    }\n",
              "\n",
              "    .dataframe tbody tr th {\n",
              "        vertical-align: top;\n",
              "    }\n",
              "\n",
              "    .dataframe thead th {\n",
              "        text-align: right;\n",
              "    }\n",
              "</style>\n",
              "<table border=\"1\" class=\"dataframe\">\n",
              "  <thead>\n",
              "    <tr style=\"text-align: right;\">\n",
              "      <th></th>\n",
              "      <th>id</th>\n",
              "      <th>name</th>\n",
              "      <th>age</th>\n",
              "      <th>city</th>\n",
              "      <th>_dlt_load_id</th>\n",
              "      <th>_dlt_id</th>\n",
              "      <th>occupation</th>\n",
              "    </tr>\n",
              "  </thead>\n",
              "  <tbody>\n",
              "    <tr>\n",
              "      <th>0</th>\n",
              "      <td>1</td>\n",
              "      <td>Person_1</td>\n",
              "      <td>26</td>\n",
              "      <td>City_A</td>\n",
              "      <td>1707234971.1677208</td>\n",
              "      <td>tGwpuljTNRNGTg</td>\n",
              "      <td>None</td>\n",
              "    </tr>\n",
              "    <tr>\n",
              "      <th>1</th>\n",
              "      <td>2</td>\n",
              "      <td>Person_2</td>\n",
              "      <td>27</td>\n",
              "      <td>City_A</td>\n",
              "      <td>1707234971.1677208</td>\n",
              "      <td>RdJKTUHXbBqnHg</td>\n",
              "      <td>None</td>\n",
              "    </tr>\n",
              "    <tr>\n",
              "      <th>2</th>\n",
              "      <td>3</td>\n",
              "      <td>Person_3</td>\n",
              "      <td>28</td>\n",
              "      <td>City_A</td>\n",
              "      <td>1707234971.1677208</td>\n",
              "      <td>M05xa8psRUiAqA</td>\n",
              "      <td>None</td>\n",
              "    </tr>\n",
              "    <tr>\n",
              "      <th>3</th>\n",
              "      <td>4</td>\n",
              "      <td>Person_4</td>\n",
              "      <td>29</td>\n",
              "      <td>City_A</td>\n",
              "      <td>1707234971.1677208</td>\n",
              "      <td>PL66GrhE7PMh4w</td>\n",
              "      <td>None</td>\n",
              "    </tr>\n",
              "    <tr>\n",
              "      <th>4</th>\n",
              "      <td>5</td>\n",
              "      <td>Person_5</td>\n",
              "      <td>30</td>\n",
              "      <td>City_A</td>\n",
              "      <td>1707234971.1677208</td>\n",
              "      <td>zRE9SjT1b60rmg</td>\n",
              "      <td>None</td>\n",
              "    </tr>\n",
              "  </tbody>\n",
              "</table>\n",
              "</div>"
            ],
            "text/plain": [
              "   id      name  age    city        _dlt_load_id         _dlt_id occupation\n",
              "0   1  Person_1   26  City_A  1707234971.1677208  tGwpuljTNRNGTg       None\n",
              "1   2  Person_2   27  City_A  1707234971.1677208  RdJKTUHXbBqnHg       None\n",
              "2   3  Person_3   28  City_A  1707234971.1677208  M05xa8psRUiAqA       None\n",
              "3   4  Person_4   29  City_A  1707234971.1677208  PL66GrhE7PMh4w       None\n",
              "4   5  Person_5   30  City_A  1707234971.1677208  zRE9SjT1b60rmg       None"
            ]
          },
          "metadata": {},
          "output_type": "display_data"
        }
      ],
      "source": [
        "rides = conn.sql(\"SELECT * FROM people_1\").df()\n",
        "display(rides)"
      ]
    },
    {
      "cell_type": "code",
      "execution_count": 30,
      "metadata": {},
      "outputs": [
        {
          "data": {
            "text/html": [
              "<div>\n",
              "<style scoped>\n",
              "    .dataframe tbody tr th:only-of-type {\n",
              "        vertical-align: middle;\n",
              "    }\n",
              "\n",
              "    .dataframe tbody tr th {\n",
              "        vertical-align: top;\n",
              "    }\n",
              "\n",
              "    .dataframe thead th {\n",
              "        text-align: right;\n",
              "    }\n",
              "</style>\n",
              "<table border=\"1\" class=\"dataframe\">\n",
              "  <thead>\n",
              "    <tr style=\"text-align: right;\">\n",
              "      <th></th>\n",
              "      <th>id</th>\n",
              "      <th>name</th>\n",
              "      <th>age</th>\n",
              "      <th>city</th>\n",
              "      <th>_dlt_load_id</th>\n",
              "      <th>_dlt_id</th>\n",
              "      <th>occupation</th>\n",
              "    </tr>\n",
              "  </thead>\n",
              "  <tbody>\n",
              "    <tr>\n",
              "      <th>0</th>\n",
              "      <td>1</td>\n",
              "      <td>Person_1</td>\n",
              "      <td>26</td>\n",
              "      <td>City_A</td>\n",
              "      <td>1707234971.1677208</td>\n",
              "      <td>tGwpuljTNRNGTg</td>\n",
              "      <td>None</td>\n",
              "    </tr>\n",
              "    <tr>\n",
              "      <th>1</th>\n",
              "      <td>2</td>\n",
              "      <td>Person_2</td>\n",
              "      <td>27</td>\n",
              "      <td>City_A</td>\n",
              "      <td>1707234971.1677208</td>\n",
              "      <td>RdJKTUHXbBqnHg</td>\n",
              "      <td>None</td>\n",
              "    </tr>\n",
              "    <tr>\n",
              "      <th>2</th>\n",
              "      <td>5</td>\n",
              "      <td>Person_5</td>\n",
              "      <td>35</td>\n",
              "      <td>City_B</td>\n",
              "      <td>1707235039.430098</td>\n",
              "      <td>V8TFBTltYbnRew</td>\n",
              "      <td>Job_5</td>\n",
              "    </tr>\n",
              "    <tr>\n",
              "      <th>3</th>\n",
              "      <td>4</td>\n",
              "      <td>Person_4</td>\n",
              "      <td>34</td>\n",
              "      <td>City_B</td>\n",
              "      <td>1707235039.430098</td>\n",
              "      <td>gO0mv7K/L7Vfjg</td>\n",
              "      <td>Job_4</td>\n",
              "    </tr>\n",
              "    <tr>\n",
              "      <th>4</th>\n",
              "      <td>3</td>\n",
              "      <td>Person_3</td>\n",
              "      <td>33</td>\n",
              "      <td>City_B</td>\n",
              "      <td>1707235039.430098</td>\n",
              "      <td>kowuOtlwqp8Rsg</td>\n",
              "      <td>Job_3</td>\n",
              "    </tr>\n",
              "    <tr>\n",
              "      <th>5</th>\n",
              "      <td>6</td>\n",
              "      <td>Person_6</td>\n",
              "      <td>36</td>\n",
              "      <td>City_B</td>\n",
              "      <td>1707235039.430098</td>\n",
              "      <td>7PmK98HD7fxpjw</td>\n",
              "      <td>Job_6</td>\n",
              "    </tr>\n",
              "    <tr>\n",
              "      <th>6</th>\n",
              "      <td>7</td>\n",
              "      <td>Person_7</td>\n",
              "      <td>37</td>\n",
              "      <td>City_B</td>\n",
              "      <td>1707235039.430098</td>\n",
              "      <td>wXIuVtH8VbidIw</td>\n",
              "      <td>Job_7</td>\n",
              "    </tr>\n",
              "    <tr>\n",
              "      <th>7</th>\n",
              "      <td>8</td>\n",
              "      <td>Person_8</td>\n",
              "      <td>38</td>\n",
              "      <td>City_B</td>\n",
              "      <td>1707235039.430098</td>\n",
              "      <td>tWW4xPSHMm3TYQ</td>\n",
              "      <td>Job_8</td>\n",
              "    </tr>\n",
              "  </tbody>\n",
              "</table>\n",
              "</div>"
            ],
            "text/plain": [
              "   id      name  age    city        _dlt_load_id         _dlt_id occupation\n",
              "0   1  Person_1   26  City_A  1707234971.1677208  tGwpuljTNRNGTg       None\n",
              "1   2  Person_2   27  City_A  1707234971.1677208  RdJKTUHXbBqnHg       None\n",
              "2   5  Person_5   35  City_B   1707235039.430098  V8TFBTltYbnRew      Job_5\n",
              "3   4  Person_4   34  City_B   1707235039.430098  gO0mv7K/L7Vfjg      Job_4\n",
              "4   3  Person_3   33  City_B   1707235039.430098  kowuOtlwqp8Rsg      Job_3\n",
              "5   6  Person_6   36  City_B   1707235039.430098  7PmK98HD7fxpjw      Job_6\n",
              "6   7  Person_7   37  City_B   1707235039.430098  wXIuVtH8VbidIw      Job_7\n",
              "7   8  Person_8   38  City_B   1707235039.430098  tWW4xPSHMm3TYQ      Job_8"
            ]
          },
          "metadata": {},
          "output_type": "display_data"
        }
      ],
      "source": [
        "rides = conn.sql(\"SELECT * FROM people_1\").df()\n",
        "display(rides)"
      ]
    },
    {
      "cell_type": "code",
      "execution_count": 31,
      "metadata": {},
      "outputs": [
        {
          "data": {
            "text/html": [
              "<div>\n",
              "<style scoped>\n",
              "    .dataframe tbody tr th:only-of-type {\n",
              "        vertical-align: middle;\n",
              "    }\n",
              "\n",
              "    .dataframe tbody tr th {\n",
              "        vertical-align: top;\n",
              "    }\n",
              "\n",
              "    .dataframe thead th {\n",
              "        text-align: right;\n",
              "    }\n",
              "</style>\n",
              "<table border=\"1\" class=\"dataframe\">\n",
              "  <thead>\n",
              "    <tr style=\"text-align: right;\">\n",
              "      <th></th>\n",
              "      <th>sum(age)</th>\n",
              "    </tr>\n",
              "  </thead>\n",
              "  <tbody>\n",
              "    <tr>\n",
              "      <th>0</th>\n",
              "      <td>266.0</td>\n",
              "    </tr>\n",
              "  </tbody>\n",
              "</table>\n",
              "</div>"
            ],
            "text/plain": [
              "   sum(age)\n",
              "0     266.0"
            ]
          },
          "metadata": {},
          "output_type": "display_data"
        }
      ],
      "source": [
        "rides = conn.sql(\"SELECT SUM(age) FROM people_1\").df()\n",
        "display(rides)"
      ]
    },
    {
      "cell_type": "markdown",
      "metadata": {
        "id": "vtdTIm4fvQCN"
      },
      "source": []
    },
    {
      "cell_type": "markdown",
      "metadata": {
        "id": "pY4cFAWOSwN1"
      },
      "source": [
        "# 3. Merge a generator\n",
        "\n",
        "Re-use the generators from Exercise 2.\n",
        "\n",
        "A table's primary key needs to be created from the start, so load your data to a new table with primary key ID.\n",
        "\n",
        "Load your first generator first, and then load the second one with merge. Since they have overlapping IDs, some of the records from the first load should be replaced by the ones from the second load.\n",
        "\n",
        "After loading, you should have a total of 8 records, and ID 3 should have age 33.\n",
        "\n",
        "Question: **Calculate the sum of ages of all the people loaded as described above.**\n"
      ]
    },
    {
      "cell_type": "markdown",
      "metadata": {
        "id": "kKB2GTB9oVjr"
      },
      "source": [
        "# Solution: First make sure that the following modules are installed:"
      ]
    },
    {
      "cell_type": "code",
      "execution_count": null,
      "metadata": {
        "id": "xTVvtyqrfVNq"
      },
      "outputs": [],
      "source": [
        "#Install the dependencies\n",
        "%%capture\n",
        "!pip install dlt[duckdb]"
      ]
    },
    {
      "cell_type": "code",
      "execution_count": null,
      "metadata": {
        "id": "a2-PRBAkGC2K"
      },
      "outputs": [],
      "source": [
        "# to do: homework :)"
      ]
    },
    {
      "cell_type": "markdown",
      "metadata": {
        "id": "PoTJu4kbGG0z"
      },
      "source": [
        "Questions? difficulties? We are here to help.\n",
        "- DTC data engineering course channel: https://datatalks-club.slack.com/archives/C01FABYF2RG\n",
        "- dlt's DTC cohort channel: https://dlthub-community.slack.com/archives/C06GAEX2VNX"
      ]
    }
  ],
  "metadata": {
    "colab": {
      "provenance": []
    },
    "kernelspec": {
      "display_name": "Python 3",
      "name": "python3"
    },
    "language_info": {
      "codemirror_mode": {
        "name": "ipython",
        "version": 3
      },
      "file_extension": ".py",
      "mimetype": "text/x-python",
      "name": "python",
      "nbconvert_exporter": "python",
      "pygments_lexer": "ipython3",
      "version": "3.11.6"
    }
  },
  "nbformat": 4,
  "nbformat_minor": 0
}
